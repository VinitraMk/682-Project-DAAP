{
  "cells": [
    {
      "cell_type": "code",
      "execution_count": null,
      "metadata": {
        "colab": {
          "base_uri": "https://localhost:8080/"
        },
        "id": "iRhDslcYvStj",
        "outputId": "4739dd06-91b3-4a92-dad2-3bf4c20f85c2"
      },
      "outputs": [
        {
          "output_type": "stream",
          "name": "stdout",
          "text": [
            "Looking in indexes: https://download.pytorch.org/whl/cpu\n",
            "Requirement already satisfied: torch in /usr/local/lib/python3.10/dist-packages (2.0.1+cu118)\n",
            "Requirement already satisfied: torchvision in /usr/local/lib/python3.10/dist-packages (0.15.2+cu118)\n",
            "Requirement already satisfied: torchaudio in /usr/local/lib/python3.10/dist-packages (2.0.2+cu118)\n",
            "Requirement already satisfied: filelock in /usr/local/lib/python3.10/dist-packages (from torch) (3.12.2)\n",
            "Requirement already satisfied: typing-extensions in /usr/local/lib/python3.10/dist-packages (from torch) (4.5.0)\n",
            "Requirement already satisfied: sympy in /usr/local/lib/python3.10/dist-packages (from torch) (1.12)\n",
            "Requirement already satisfied: networkx in /usr/local/lib/python3.10/dist-packages (from torch) (3.1)\n",
            "Requirement already satisfied: jinja2 in /usr/local/lib/python3.10/dist-packages (from torch) (3.1.2)\n",
            "Requirement already satisfied: triton==2.0.0 in /usr/local/lib/python3.10/dist-packages (from torch) (2.0.0)\n",
            "Requirement already satisfied: cmake in /usr/local/lib/python3.10/dist-packages (from triton==2.0.0->torch) (3.27.4.1)\n",
            "Requirement already satisfied: lit in /usr/local/lib/python3.10/dist-packages (from triton==2.0.0->torch) (16.0.6)\n",
            "Requirement already satisfied: numpy in /usr/local/lib/python3.10/dist-packages (from torchvision) (1.23.5)\n",
            "Requirement already satisfied: requests in /usr/local/lib/python3.10/dist-packages (from torchvision) (2.31.0)\n",
            "Requirement already satisfied: pillow!=8.3.*,>=5.3.0 in /usr/local/lib/python3.10/dist-packages (from torchvision) (9.4.0)\n",
            "Requirement already satisfied: MarkupSafe>=2.0 in /usr/local/lib/python3.10/dist-packages (from jinja2->torch) (2.1.3)\n",
            "Requirement already satisfied: charset-normalizer<4,>=2 in /usr/local/lib/python3.10/dist-packages (from requests->torchvision) (3.2.0)\n",
            "Requirement already satisfied: idna<4,>=2.5 in /usr/local/lib/python3.10/dist-packages (from requests->torchvision) (3.4)\n",
            "Requirement already satisfied: urllib3<3,>=1.21.1 in /usr/local/lib/python3.10/dist-packages (from requests->torchvision) (2.0.4)\n",
            "Requirement already satisfied: certifi>=2017.4.17 in /usr/local/lib/python3.10/dist-packages (from requests->torchvision) (2023.7.22)\n",
            "Requirement already satisfied: mpmath>=0.19 in /usr/local/lib/python3.10/dist-packages (from sympy->torch) (1.3.0)\n"
          ]
        }
      ],
      "source": [
        "# Let's do some setup\n",
        "\n",
        "# Install pytorch gpu\n",
        "\n",
        "# Use the command below to install pytorch in gpu\n",
        "#!pip3 install torch torchvision torchaudio\n",
        "\n",
        "# Use command below to install pytorch in cpu\n",
        "!pip3 install torch torchvision torchaudio --index-url https://download.pytorch.org/whl/cpu\n"
      ]
    },
    {
      "cell_type": "code",
      "source": [
        "# unzip imagenette"
      ],
      "metadata": {
        "id": "IYa6uukerGPH"
      },
      "execution_count": null,
      "outputs": []
    },
    {
      "cell_type": "code",
      "source": [
        "%cd /content/data\n",
        "!ls\n",
        "#!wget https://s3.amazonaws.com/fast-ai-imageclas/imagenette2.tgz"
      ],
      "metadata": {
        "colab": {
          "base_uri": "https://localhost:8080/"
        },
        "id": "pwr_INsvCYDz",
        "outputId": "b9c232c5-85a9-405a-9259-faf0d56860df"
      },
      "execution_count": null,
      "outputs": [
        {
          "output_type": "stream",
          "name": "stdout",
          "text": [
            "/content/data\n",
            "class_code2name.json  class_id2name.json  imagenet_patch.gz\n",
            "--2023-12-05 13:06:58--  https://s3.amazonaws.com/fast-ai-imageclas/imagenette2.tgz\n",
            "Resolving s3.amazonaws.com (s3.amazonaws.com)... 52.216.216.224, 52.216.43.112, 52.216.61.144, ...\n",
            "Connecting to s3.amazonaws.com (s3.amazonaws.com)|52.216.216.224|:443... connected.\n",
            "HTTP request sent, awaiting response... 200 OK\n",
            "Length: 1557161267 (1.5G) [application/x-tar]\n",
            "Saving to: ‘imagenette2.tgz’\n",
            "\n",
            "imagenette2.tgz     100%[===================>]   1.45G  23.3MB/s    in 56s     \n",
            "\n",
            "2023-12-05 13:07:55 (26.4 MB/s) - ‘imagenette2.tgz’ saved [1557161267/1557161267]\n",
            "\n"
          ]
        }
      ]
    },
    {
      "cell_type": "code",
      "source": [
        "!python index.py --operation attack"
      ],
      "metadata": {
        "colab": {
          "base_uri": "https://localhost:8080/"
        },
        "id": "8WGDJa_8j63U",
        "outputId": "63cd595a-942c-4d06-90f3-e7db5e4bfe92"
      },
      "execution_count": null,
      "outputs": [
        {
          "output_type": "stream",
          "name": "stdout",
          "text": [
            "program started for operation attack\n",
            "building datasets...\n",
            "\n",
            "Length of train dataset:  9296\n",
            "Length of val dataset:  3856 \n",
            "\n",
            "Reset output directories\n",
            "\n",
            "Loading pretrained model\n",
            "\n",
            "Attack images\n",
            "\tAdding patches to train batch 0\n",
            "\tAdding patches to train batch 1\n",
            "\tAdding patches to train batch 2\n",
            "\tAdding patches to train batch 3\n",
            "\tAdding patches to train batch 4\n",
            "\tAdding patches to train batch 5\n",
            "\tAdding patches to train batch 6\n",
            "\tAdding patches to train batch 7\n",
            "\tAdding patches to train batch 8\n",
            "\tAdding patches to train batch 9\n",
            "\tAdding patches to train batch 10\n",
            "\tAdding patches to train batch 11\n",
            "\tAdding patches to train batch 12\n",
            "\tAdding patches to train batch 13\n",
            "\tAdding patches to train batch 14\n",
            "\tAdding patches to train batch 15\n",
            "\tAdding patches to train batch 16\n",
            "\tAdding patches to train batch 17\n",
            "\tAdding patches to train batch 18\n",
            "\tAdding patches to train batch 19\n",
            "\tAdding patches to train batch 20\n"
          ]
        }
      ]
    },
    {
      "cell_type": "code",
      "source": [
        "!python make_yolov5_dataset.py"
      ],
      "metadata": {
        "colab": {
          "base_uri": "https://localhost:8080/"
        },
        "id": "v5ieR_qZqh7m",
        "outputId": "fed7a902-1f08-468c-893e-cff844b1489a"
      },
      "execution_count": 5,
      "outputs": [
        {
          "output_type": "stream",
          "name": "stdout",
          "text": [
            "No of images copied 699 618 81\n",
            "['.config', '__init__.py', '.ipynb_checkpoints', 'models', 'transforms', 'test-mask-2.png', 'README.md', 'test_img.JPEG', 'datautils', 'utils', 'output', 'test-mask.png', 'make_yolov5_dataset.py', 'yolov5', 'preprocessor.py', 'train_loss_history.png', 'test-mask-3.png', 'attack', 'sample_patches.png', 'index.py', 'test-attacked-images', 'yolov5-attacked-images.zip', 'defence', 'config.py', 'data', 'runs', 'patch-detection.yaml', '__pycache__', 'attacked-images.zip', 'sample_data']\n",
            "/content/data/yolov5-attacked-images /content/yolov5/data/yolov5-attacked-images\n"
          ]
        }
      ]
    },
    {
      "cell_type": "code",
      "source": [
        "!python yolov5/train.py --img 224 --batch 32 --epochs 10 --data data/patch-detection.yaml --weights yolov5s.pt --workers 24 --name yolo-patch-detection-sm-final"
      ],
      "metadata": {
        "colab": {
          "base_uri": "https://localhost:8080/"
        },
        "id": "CyNd1YDmQqpD",
        "outputId": "dc55c3dc-2d01-4362-8916-4c8fe8029021"
      },
      "execution_count": 13,
      "outputs": [
        {
          "output_type": "stream",
          "name": "stdout",
          "text": [
            "[Errno 2] No such file or directory: 'yolov5/'\n",
            "/content/yolov5\n",
            "\u001b[34m\u001b[1mdetect: \u001b[0mweights=['runs/train/yolo-patch-detection-sm-final2/weights/best.pt'], source=data/yolov5-attacked-images/val/images, data=data/coco128.yaml, imgsz=[224, 224], conf_thres=0.25, iou_thres=0.45, max_det=1000, device=, view_img=False, save_txt=True, save_csv=False, save_conf=False, save_crop=False, nosave=False, classes=None, agnostic_nms=False, augment=False, visualize=False, update=False, project=runs/detect, name=exp, exist_ok=False, line_thickness=3, hide_labels=False, hide_conf=False, half=False, dnn=False, vid_stride=1\n",
            "YOLOv5 🚀 v7.0-247-g3f02fde Python-3.10.12 torch-2.0.1+cu118 CUDA:0 (Tesla T4, 15102MiB)\n",
            "\n",
            "Fusing layers... \n",
            "Model summary: 157 layers, 7015519 parameters, 0 gradients, 15.8 GFLOPs\n",
            "image 1/199 /content/yolov5/data/yolov5-attacked-images/val/images/ILSVRC2012_val_00004650.JPEG: 224x224 1 patch, 5.1ms\n",
            "image 2/199 /content/yolov5/data/yolov5-attacked-images/val/images/ILSVRC2012_val_00008161.JPEG: 224x224 1 patch, 4.9ms\n",
            "image 3/199 /content/yolov5/data/yolov5-attacked-images/val/images/ILSVRC2012_val_00020781.JPEG: 224x224 1 patch, 5.1ms\n",
            "image 4/199 /content/yolov5/data/yolov5-attacked-images/val/images/ILSVRC2012_val_00031412.JPEG: 224x224 1 patch, 4.9ms\n",
            "image 5/199 /content/yolov5/data/yolov5-attacked-images/val/images/ILSVRC2012_val_00037861.JPEG: 224x224 1 patch, 4.8ms\n",
            "image 6/199 /content/yolov5/data/yolov5-attacked-images/val/images/n01440764_10251.JPEG: 192x224 1 patch, 40.3ms\n",
            "image 7/199 /content/yolov5/data/yolov5-attacked-images/val/images/n01440764_11331.JPEG: 224x224 1 patch, 5.4ms\n",
            "image 8/199 /content/yolov5/data/yolov5-attacked-images/val/images/n01440764_1141.JPEG: 224x224 1 patch, 5.0ms\n",
            "image 9/199 /content/yolov5/data/yolov5-attacked-images/val/images/n01440764_12702.JPEG: 224x224 1 patch, 4.9ms\n",
            "image 10/199 /content/yolov5/data/yolov5-attacked-images/val/images/n01440764_12971.JPEG: 224x224 1 patch, 5.0ms\n",
            "image 11/199 /content/yolov5/data/yolov5-attacked-images/val/images/n01440764_13251.JPEG: 224x224 1 patch, 5.0ms\n",
            "image 12/199 /content/yolov5/data/yolov5-attacked-images/val/images/n01440764_13821.JPEG: 224x224 1 patch, 5.0ms\n",
            "image 13/199 /content/yolov5/data/yolov5-attacked-images/val/images/n01440764_13860.JPEG: 192x224 (no detections), 5.2ms\n",
            "image 14/199 /content/yolov5/data/yolov5-attacked-images/val/images/n01440764_17782.JPEG: 224x224 1 patch, 5.5ms\n",
            "image 15/199 /content/yolov5/data/yolov5-attacked-images/val/images/n01440764_2002.JPEG: 224x224 1 patch, 4.9ms\n",
            "image 16/199 /content/yolov5/data/yolov5-attacked-images/val/images/n01440764_20922.JPEG: 224x160 (no detections), 39.3ms\n",
            "image 17/199 /content/yolov5/data/yolov5-attacked-images/val/images/n01440764_2690.JPEG: 224x224 1 patch, 5.5ms\n",
            "image 18/199 /content/yolov5/data/yolov5-attacked-images/val/images/n01440764_31170.JPEG: 224x224 1 patch, 5.6ms\n",
            "image 19/199 /content/yolov5/data/yolov5-attacked-images/val/images/n01440764_421.JPEG: 224x224 1 patch, 5.0ms\n",
            "image 20/199 /content/yolov5/data/yolov5-attacked-images/val/images/n01440764_4360.JPEG: 224x224 1 patch, 4.9ms\n",
            "image 21/199 /content/yolov5/data/yolov5-attacked-images/val/images/n01440764_5902.JPEG: 224x224 1 patch, 5.1ms\n",
            "image 22/199 /content/yolov5/data/yolov5-attacked-images/val/images/n01440764_6570.JPEG: 224x224 1 patch, 5.4ms\n",
            "image 23/199 /content/yolov5/data/yolov5-attacked-images/val/images/n01440764_6812.JPEG: 224x224 1 patch, 5.2ms\n",
            "image 24/199 /content/yolov5/data/yolov5-attacked-images/val/images/n01440764_7701.JPEG: 224x224 1 patch, 5.0ms\n",
            "image 25/199 /content/yolov5/data/yolov5-attacked-images/val/images/n01440764_8611.JPEG: 224x224 1 patch, 4.8ms\n",
            "image 26/199 /content/yolov5/data/yolov5-attacked-images/val/images/n01440764_9962.JPEG: 224x224 1 patch, 5.2ms\n",
            "image 27/199 /content/yolov5/data/yolov5-attacked-images/val/images/n02102040_1241.JPEG: 224x224 1 patch, 5.1ms\n",
            "image 28/199 /content/yolov5/data/yolov5-attacked-images/val/images/n02102040_1261.JPEG: 224x224 1 patch, 5.0ms\n",
            "image 29/199 /content/yolov5/data/yolov5-attacked-images/val/images/n02102040_1612.JPEG: 224x224 1 patch, 5.1ms\n",
            "image 30/199 /content/yolov5/data/yolov5-attacked-images/val/images/n02102040_1961.JPEG: 224x224 1 patch, 5.0ms\n",
            "image 31/199 /content/yolov5/data/yolov5-attacked-images/val/images/n02102040_2280.JPEG: 224x224 2 patchs, 4.9ms\n",
            "image 32/199 /content/yolov5/data/yolov5-attacked-images/val/images/n02102040_2842.JPEG: 224x224 1 patch, 5.1ms\n",
            "image 33/199 /content/yolov5/data/yolov5-attacked-images/val/images/n02102040_3472.JPEG: 224x224 (no detections), 5.1ms\n",
            "image 34/199 /content/yolov5/data/yolov5-attacked-images/val/images/n02102040_3681.JPEG: 224x224 1 patch, 5.0ms\n",
            "image 35/199 /content/yolov5/data/yolov5-attacked-images/val/images/n02102040_4262.JPEG: 224x224 1 patch, 4.8ms\n",
            "image 36/199 /content/yolov5/data/yolov5-attacked-images/val/images/n02102040_451.JPEG: 160x224 (no detections), 43.2ms\n",
            "image 37/199 /content/yolov5/data/yolov5-attacked-images/val/images/n02102040_4701.JPEG: 224x224 1 patch, 5.5ms\n",
            "image 38/199 /content/yolov5/data/yolov5-attacked-images/val/images/n02102040_5060.JPEG: 224x224 1 patch, 4.9ms\n",
            "image 39/199 /content/yolov5/data/yolov5-attacked-images/val/images/n02102040_6152.JPEG: 224x224 1 patch, 5.3ms\n",
            "image 40/199 /content/yolov5/data/yolov5-attacked-images/val/images/n02102040_6552.JPEG: 224x224 1 patch, 4.9ms\n",
            "image 41/199 /content/yolov5/data/yolov5-attacked-images/val/images/n02102040_6622.JPEG: 224x224 1 patch, 4.9ms\n",
            "image 42/199 /content/yolov5/data/yolov5-attacked-images/val/images/n02102040_6781.JPEG: 224x224 1 patch, 6.5ms\n",
            "image 43/199 /content/yolov5/data/yolov5-attacked-images/val/images/n02102040_702.JPEG: 224x224 1 patch, 7.7ms\n",
            "image 44/199 /content/yolov5/data/yolov5-attacked-images/val/images/n02102040_8012.JPEG: 224x224 1 patch, 4.9ms\n",
            "image 45/199 /content/yolov5/data/yolov5-attacked-images/val/images/n02102040_8300.JPEG: 224x160 (no detections), 5.3ms\n",
            "image 46/199 /content/yolov5/data/yolov5-attacked-images/val/images/n02102040_831.JPEG: 224x224 1 patch, 5.3ms\n",
            "image 47/199 /content/yolov5/data/yolov5-attacked-images/val/images/n02979186_11790.JPEG: 224x224 1 patch, 5.3ms\n",
            "image 48/199 /content/yolov5/data/yolov5-attacked-images/val/images/n02979186_12060.JPEG: 224x224 1 patch, 4.9ms\n",
            "image 49/199 /content/yolov5/data/yolov5-attacked-images/val/images/n02979186_12072.JPEG: 224x224 1 patch, 5.3ms\n",
            "image 50/199 /content/yolov5/data/yolov5-attacked-images/val/images/n02979186_12590.JPEG: 192x224 (no detections), 5.4ms\n",
            "image 51/199 /content/yolov5/data/yolov5-attacked-images/val/images/n02979186_1281.JPEG: 224x224 1 patch, 5.4ms\n",
            "image 52/199 /content/yolov5/data/yolov5-attacked-images/val/images/n02979186_13701.JPEG: 224x224 1 patch, 5.0ms\n",
            "image 53/199 /content/yolov5/data/yolov5-attacked-images/val/images/n02979186_13841.JPEG: 224x224 1 patch, 4.8ms\n",
            "image 54/199 /content/yolov5/data/yolov5-attacked-images/val/images/n02979186_15432.JPEG: 224x224 1 patch, 5.0ms\n",
            "image 55/199 /content/yolov5/data/yolov5-attacked-images/val/images/n02979186_17460.JPEG: 224x224 1 patch, 4.9ms\n",
            "image 56/199 /content/yolov5/data/yolov5-attacked-images/val/images/n02979186_17680.JPEG: 224x224 1 patch, 4.9ms\n",
            "image 57/199 /content/yolov5/data/yolov5-attacked-images/val/images/n02979186_18131.JPEG: 224x224 1 patch, 4.9ms\n",
            "image 58/199 /content/yolov5/data/yolov5-attacked-images/val/images/n02979186_20132.JPEG: 224x224 2 patchs, 4.8ms\n",
            "image 59/199 /content/yolov5/data/yolov5-attacked-images/val/images/n02979186_20631.JPEG: 224x224 1 patch, 4.8ms\n",
            "image 60/199 /content/yolov5/data/yolov5-attacked-images/val/images/n02979186_20730.JPEG: 224x224 1 patch, 8.5ms\n",
            "image 61/199 /content/yolov5/data/yolov5-attacked-images/val/images/n02979186_2642.JPEG: 192x224 1 patch, 5.4ms\n",
            "image 62/199 /content/yolov5/data/yolov5-attacked-images/val/images/n02979186_351.JPEG: 224x224 1 patch, 8.0ms\n",
            "image 63/199 /content/yolov5/data/yolov5-attacked-images/val/images/n03000684_11241.JPEG: 224x224 1 patch, 4.9ms\n",
            "image 64/199 /content/yolov5/data/yolov5-attacked-images/val/images/n03000684_14391.JPEG: 224x224 2 patchs, 5.0ms\n",
            "image 65/199 /content/yolov5/data/yolov5-attacked-images/val/images/n03000684_15470.JPEG: 224x224 1 patch, 4.8ms\n",
            "image 66/199 /content/yolov5/data/yolov5-attacked-images/val/images/n03000684_16242.JPEG: 224x224 2 patchs, 5.1ms\n",
            "image 67/199 /content/yolov5/data/yolov5-attacked-images/val/images/n03000684_16782.JPEG: 224x224 1 patch, 5.2ms\n",
            "image 68/199 /content/yolov5/data/yolov5-attacked-images/val/images/n03000684_17261.JPEG: 224x224 1 patch, 5.3ms\n",
            "image 69/199 /content/yolov5/data/yolov5-attacked-images/val/images/n03000684_20650.JPEG: 224x224 1 patch, 4.8ms\n",
            "image 70/199 /content/yolov5/data/yolov5-attacked-images/val/images/n03000684_20762.JPEG: 224x224 1 patch, 5.1ms\n",
            "image 71/199 /content/yolov5/data/yolov5-attacked-images/val/images/n03000684_292.JPEG: 160x224 (no detections), 5.4ms\n",
            "image 72/199 /content/yolov5/data/yolov5-attacked-images/val/images/n03000684_30141.JPEG: 224x224 1 patch, 5.9ms\n",
            "image 73/199 /content/yolov5/data/yolov5-attacked-images/val/images/n03000684_31181.JPEG: 224x224 1 patch, 6.1ms\n",
            "image 74/199 /content/yolov5/data/yolov5-attacked-images/val/images/n03000684_410.JPEG: 224x224 1 patch, 5.1ms\n",
            "image 75/199 /content/yolov5/data/yolov5-attacked-images/val/images/n03000684_440.JPEG: 192x224 1 patch, 5.5ms\n",
            "image 76/199 /content/yolov5/data/yolov5-attacked-images/val/images/n03000684_5231.JPEG: 224x224 1 patch, 5.3ms\n",
            "image 77/199 /content/yolov5/data/yolov5-attacked-images/val/images/n03000684_5841.JPEG: 224x224 1 patch, 4.9ms\n",
            "image 78/199 /content/yolov5/data/yolov5-attacked-images/val/images/n03000684_590.JPEG: 224x224 2 patchs, 4.9ms\n",
            "image 79/199 /content/yolov5/data/yolov5-attacked-images/val/images/n03000684_731.JPEG: 224x224 1 patch, 4.8ms\n",
            "image 80/199 /content/yolov5/data/yolov5-attacked-images/val/images/n03000684_8502.JPEG: 224x224 1 patch, 5.1ms\n",
            "image 81/199 /content/yolov5/data/yolov5-attacked-images/val/images/n03028079_12061.JPEG: 224x224 1 patch, 4.9ms\n",
            "image 82/199 /content/yolov5/data/yolov5-attacked-images/val/images/n03028079_1372.JPEG: 224x224 1 patch, 7.4ms\n",
            "image 83/199 /content/yolov5/data/yolov5-attacked-images/val/images/n03028079_14010.JPEG: 224x224 1 patch, 5.5ms\n",
            "image 84/199 /content/yolov5/data/yolov5-attacked-images/val/images/n03028079_15370.JPEG: 224x224 1 patch, 4.8ms\n",
            "image 85/199 /content/yolov5/data/yolov5-attacked-images/val/images/n03028079_16820.JPEG: 224x224 1 patch, 5.0ms\n",
            "image 86/199 /content/yolov5/data/yolov5-attacked-images/val/images/n03028079_1870.JPEG: 224x224 1 patch, 6.6ms\n",
            "image 87/199 /content/yolov5/data/yolov5-attacked-images/val/images/n03028079_20210.JPEG: 224x224 1 patch, 5.2ms\n",
            "image 88/199 /content/yolov5/data/yolov5-attacked-images/val/images/n03028079_26571.JPEG: 224x224 2 patchs, 5.0ms\n",
            "image 89/199 /content/yolov5/data/yolov5-attacked-images/val/images/n03028079_6831.JPEG: 224x224 1 patch, 4.9ms\n",
            "image 90/199 /content/yolov5/data/yolov5-attacked-images/val/images/n03028079_73181.JPEG: 224x160 1 patch, 5.5ms\n",
            "image 91/199 /content/yolov5/data/yolov5-attacked-images/val/images/n03028079_77811.JPEG: 224x224 1 patch, 8.7ms\n",
            "image 92/199 /content/yolov5/data/yolov5-attacked-images/val/images/n03028079_8161.JPEG: 224x224 1 patch, 5.1ms\n",
            "image 93/199 /content/yolov5/data/yolov5-attacked-images/val/images/n03028079_8162.JPEG: 224x224 1 patch, 4.8ms\n",
            "image 94/199 /content/yolov5/data/yolov5-attacked-images/val/images/n03028079_87780.JPEG: 224x160 (no detections), 5.1ms\n",
            "image 95/199 /content/yolov5/data/yolov5-attacked-images/val/images/n03394916_22661.JPEG: 224x224 (no detections), 5.6ms\n",
            "image 96/199 /content/yolov5/data/yolov5-attacked-images/val/images/n03394916_24532.JPEG: 224x224 1 patch, 4.8ms\n",
            "image 97/199 /content/yolov5/data/yolov5-attacked-images/val/images/n03394916_31860.JPEG: 224x224 1 patch, 4.9ms\n",
            "image 98/199 /content/yolov5/data/yolov5-attacked-images/val/images/n03394916_32980.JPEG: 224x224 1 patch, 4.8ms\n",
            "image 99/199 /content/yolov5/data/yolov5-attacked-images/val/images/n03394916_33352.JPEG: 224x224 1 patch, 4.8ms\n",
            "image 100/199 /content/yolov5/data/yolov5-attacked-images/val/images/n03394916_36102.JPEG: 224x224 1 patch, 4.9ms\n",
            "image 101/199 /content/yolov5/data/yolov5-attacked-images/val/images/n03394916_36662.JPEG: 224x224 3 patchs, 5.0ms\n",
            "image 102/199 /content/yolov5/data/yolov5-attacked-images/val/images/n03394916_36982.JPEG: 224x224 1 patch, 4.8ms\n",
            "image 103/199 /content/yolov5/data/yolov5-attacked-images/val/images/n03394916_37991.JPEG: 224x224 1 patch, 4.8ms\n",
            "image 104/199 /content/yolov5/data/yolov5-attacked-images/val/images/n03394916_43121.JPEG: 224x224 1 patch, 5.2ms\n",
            "image 105/199 /content/yolov5/data/yolov5-attacked-images/val/images/n03394916_43322.JPEG: 224x224 1 patch, 5.0ms\n",
            "image 106/199 /content/yolov5/data/yolov5-attacked-images/val/images/n03394916_43381.JPEG: 224x224 2 patchs, 4.9ms\n",
            "image 107/199 /content/yolov5/data/yolov5-attacked-images/val/images/n03394916_43532.JPEG: 224x160 1 patch, 7.0ms\n",
            "image 108/199 /content/yolov5/data/yolov5-attacked-images/val/images/n03394916_43980.JPEG: 224x224 2 patchs, 5.2ms\n",
            "image 109/199 /content/yolov5/data/yolov5-attacked-images/val/images/n03394916_44000.JPEG: 224x224 1 patch, 5.2ms\n",
            "image 110/199 /content/yolov5/data/yolov5-attacked-images/val/images/n03394916_46672.JPEG: 224x224 1 patch, 6.4ms\n",
            "image 111/199 /content/yolov5/data/yolov5-attacked-images/val/images/n03394916_47241.JPEG: 192x224 1 patch, 5.3ms\n",
            "image 112/199 /content/yolov5/data/yolov5-attacked-images/val/images/n03394916_51130.JPEG: 224x224 1 patch, 5.4ms\n",
            "image 113/199 /content/yolov5/data/yolov5-attacked-images/val/images/n03394916_56881.JPEG: 224x224 1 patch, 5.0ms\n",
            "image 114/199 /content/yolov5/data/yolov5-attacked-images/val/images/n03394916_63390.JPEG: 224x224 1 patch, 5.0ms\n",
            "image 115/199 /content/yolov5/data/yolov5-attacked-images/val/images/n03394916_8120.JPEG: 224x224 1 patch, 4.9ms\n",
            "image 116/199 /content/yolov5/data/yolov5-attacked-images/val/images/n03417042_11031.JPEG: 224x224 1 patch, 4.9ms\n",
            "image 117/199 /content/yolov5/data/yolov5-attacked-images/val/images/n03417042_20340.JPEG: 224x224 1 patch, 5.2ms\n",
            "image 118/199 /content/yolov5/data/yolov5-attacked-images/val/images/n03417042_28122.JPEG: 224x224 1 patch, 4.8ms\n",
            "image 119/199 /content/yolov5/data/yolov5-attacked-images/val/images/n03417042_29310.JPEG: 224x224 1 patch, 5.1ms\n",
            "image 120/199 /content/yolov5/data/yolov5-attacked-images/val/images/n03417042_3331.JPEG: 224x224 1 patch, 4.8ms\n",
            "image 121/199 /content/yolov5/data/yolov5-attacked-images/val/images/n03417042_3350.JPEG: 224x224 1 patch, 4.8ms\n",
            "image 122/199 /content/yolov5/data/yolov5-attacked-images/val/images/n03417042_3592.JPEG: 224x224 2 patchs, 4.8ms\n",
            "image 123/199 /content/yolov5/data/yolov5-attacked-images/val/images/n03417042_3752.JPEG: 224x224 4 patchs, 4.8ms\n",
            "image 124/199 /content/yolov5/data/yolov5-attacked-images/val/images/n03417042_4551.JPEG: 192x224 (no detections), 5.2ms\n",
            "image 125/199 /content/yolov5/data/yolov5-attacked-images/val/images/n03417042_7472.JPEG: 224x224 2 patchs, 5.2ms\n",
            "image 126/199 /content/yolov5/data/yolov5-attacked-images/val/images/n03417042_8501.JPEG: 160x224 (no detections), 5.4ms\n",
            "image 127/199 /content/yolov5/data/yolov5-attacked-images/val/images/n03417042_9592.JPEG: 224x224 1 patch, 5.6ms\n",
            "image 128/199 /content/yolov5/data/yolov5-attacked-images/val/images/n03425413_1172.JPEG: 192x224 (no detections), 6.2ms\n",
            "image 129/199 /content/yolov5/data/yolov5-attacked-images/val/images/n03425413_13741.JPEG: 224x224 1 patch, 5.7ms\n",
            "image 130/199 /content/yolov5/data/yolov5-attacked-images/val/images/n03425413_13751.JPEG: 224x224 1 patch, 5.1ms\n",
            "image 131/199 /content/yolov5/data/yolov5-attacked-images/val/images/n03425413_13752.JPEG: 224x192 (no detections), 39.5ms\n",
            "image 132/199 /content/yolov5/data/yolov5-attacked-images/val/images/n03425413_13811.JPEG: 224x224 1 patch, 5.4ms\n",
            "image 133/199 /content/yolov5/data/yolov5-attacked-images/val/images/n03425413_1400.JPEG: 224x224 1 patch, 5.1ms\n",
            "image 134/199 /content/yolov5/data/yolov5-attacked-images/val/images/n03425413_14672.JPEG: 224x224 4 patchs, 5.0ms\n",
            "image 135/199 /content/yolov5/data/yolov5-attacked-images/val/images/n03425413_1472.JPEG: 224x224 2 patchs, 5.0ms\n",
            "image 136/199 /content/yolov5/data/yolov5-attacked-images/val/images/n03425413_15002.JPEG: 224x224 1 patch, 5.2ms\n",
            "image 137/199 /content/yolov5/data/yolov5-attacked-images/val/images/n03425413_15332.JPEG: 224x224 1 patch, 5.3ms\n",
            "image 138/199 /content/yolov5/data/yolov5-attacked-images/val/images/n03425413_16300.JPEG: 224x224 1 patch, 5.3ms\n",
            "image 139/199 /content/yolov5/data/yolov5-attacked-images/val/images/n03425413_16421.JPEG: 224x224 1 patch, 5.3ms\n",
            "image 140/199 /content/yolov5/data/yolov5-attacked-images/val/images/n03425413_17212.JPEG: 224x224 1 patch, 5.0ms\n",
            "image 141/199 /content/yolov5/data/yolov5-attacked-images/val/images/n03425413_17441.JPEG: 224x224 3 patchs, 4.9ms\n",
            "image 142/199 /content/yolov5/data/yolov5-attacked-images/val/images/n03425413_20130.JPEG: 224x224 1 patch, 4.9ms\n",
            "image 143/199 /content/yolov5/data/yolov5-attacked-images/val/images/n03425413_20210.JPEG: 224x224 1 patch, 5.6ms\n",
            "image 144/199 /content/yolov5/data/yolov5-attacked-images/val/images/n03425413_21202.JPEG: 192x224 6 patchs, 5.2ms\n",
            "image 145/199 /content/yolov5/data/yolov5-attacked-images/val/images/n03425413_28350.JPEG: 224x224 2 patchs, 5.4ms\n",
            "image 146/199 /content/yolov5/data/yolov5-attacked-images/val/images/n03425413_32871.JPEG: 224x224 1 patch, 4.9ms\n",
            "image 147/199 /content/yolov5/data/yolov5-attacked-images/val/images/n03425413_492.JPEG: 224x224 1 patch, 4.9ms\n",
            "image 148/199 /content/yolov5/data/yolov5-attacked-images/val/images/n03425413_5301.JPEG: 224x224 3 patchs, 4.9ms\n",
            "image 149/199 /content/yolov5/data/yolov5-attacked-images/val/images/n03425413_8622.JPEG: 224x224 1 patch, 5.1ms\n",
            "image 150/199 /content/yolov5/data/yolov5-attacked-images/val/images/n03445777_11162.JPEG: 224x224 1 patch, 4.9ms\n",
            "image 151/199 /content/yolov5/data/yolov5-attacked-images/val/images/n03445777_12882.JPEG: 224x224 1 patch, 5.0ms\n",
            "image 152/199 /content/yolov5/data/yolov5-attacked-images/val/images/n03445777_13490.JPEG: 224x224 1 patch, 5.5ms\n",
            "image 153/199 /content/yolov5/data/yolov5-attacked-images/val/images/n03445777_15510.JPEG: 224x224 1 patch, 4.9ms\n",
            "image 154/199 /content/yolov5/data/yolov5-attacked-images/val/images/n03445777_17492.JPEG: 224x224 1 patch, 7.3ms\n",
            "image 155/199 /content/yolov5/data/yolov5-attacked-images/val/images/n03445777_17511.JPEG: 224x224 1 patch, 4.9ms\n",
            "image 156/199 /content/yolov5/data/yolov5-attacked-images/val/images/n03445777_1971.JPEG: 224x224 1 patch, 7.9ms\n",
            "image 157/199 /content/yolov5/data/yolov5-attacked-images/val/images/n03445777_2312.JPEG: 224x224 2 patchs, 6.6ms\n",
            "image 158/199 /content/yolov5/data/yolov5-attacked-images/val/images/n03445777_2611.JPEG: 160x224 1 patch, 5.5ms\n",
            "image 159/199 /content/yolov5/data/yolov5-attacked-images/val/images/n03445777_3252.JPEG: 160x224 (no detections), 7.6ms\n",
            "image 160/199 /content/yolov5/data/yolov5-attacked-images/val/images/n03445777_3440.JPEG: 224x224 1 patch, 7.5ms\n",
            "image 161/199 /content/yolov5/data/yolov5-attacked-images/val/images/n03445777_3651.JPEG: 224x224 1 patch, 4.9ms\n",
            "image 162/199 /content/yolov5/data/yolov5-attacked-images/val/images/n03445777_3761.JPEG: 224x224 2 patchs, 5.0ms\n",
            "image 163/199 /content/yolov5/data/yolov5-attacked-images/val/images/n03445777_4832.JPEG: 224x224 1 patch, 4.8ms\n",
            "image 164/199 /content/yolov5/data/yolov5-attacked-images/val/images/n03445777_5131.JPEG: 224x224 1 patch, 4.9ms\n",
            "image 165/199 /content/yolov5/data/yolov5-attacked-images/val/images/n03445777_5310.JPEG: 224x224 1 patch, 6.3ms\n",
            "image 166/199 /content/yolov5/data/yolov5-attacked-images/val/images/n03445777_5342.JPEG: 224x224 1 patch, 6.2ms\n",
            "image 167/199 /content/yolov5/data/yolov5-attacked-images/val/images/n03445777_5582.JPEG: 224x224 1 patch, 5.9ms\n",
            "image 168/199 /content/yolov5/data/yolov5-attacked-images/val/images/n03445777_6052.JPEG: 224x224 1 patch, 5.0ms\n",
            "image 169/199 /content/yolov5/data/yolov5-attacked-images/val/images/n03445777_6360.JPEG: 224x224 1 patch, 5.1ms\n",
            "image 170/199 /content/yolov5/data/yolov5-attacked-images/val/images/n03445777_7011.JPEG: 224x224 1 patch, 5.7ms\n",
            "image 171/199 /content/yolov5/data/yolov5-attacked-images/val/images/n03445777_8010.JPEG: 224x224 1 patch, 6.8ms\n",
            "image 172/199 /content/yolov5/data/yolov5-attacked-images/val/images/n03445777_8060.JPEG: 224x160 (no detections), 5.5ms\n",
            "image 173/199 /content/yolov5/data/yolov5-attacked-images/val/images/n03445777_992.JPEG: 224x224 1 patch, 6.7ms\n",
            "image 174/199 /content/yolov5/data/yolov5-attacked-images/val/images/n03888257_11042.JPEG: 224x224 1 patch, 4.9ms\n",
            "image 175/199 /content/yolov5/data/yolov5-attacked-images/val/images/n03888257_11491.JPEG: 224x224 1 patch, 4.9ms\n",
            "image 176/199 /content/yolov5/data/yolov5-attacked-images/val/images/n03888257_12070.JPEG: 224x224 1 patch, 5.0ms\n",
            "image 177/199 /content/yolov5/data/yolov5-attacked-images/val/images/n03888257_121.JPEG: 224x224 1 patch, 5.5ms\n",
            "image 178/199 /content/yolov5/data/yolov5-attacked-images/val/images/n03888257_13321.JPEG: 224x224 1 patch, 5.0ms\n",
            "image 179/199 /content/yolov5/data/yolov5-attacked-images/val/images/n03888257_16112.JPEG: 224x224 1 patch, 6.0ms\n",
            "image 180/199 /content/yolov5/data/yolov5-attacked-images/val/images/n03888257_21552.JPEG: 224x224 1 patch, 4.8ms\n",
            "image 181/199 /content/yolov5/data/yolov5-attacked-images/val/images/n03888257_22212.JPEG: 224x224 1 patch, 5.6ms\n",
            "image 182/199 /content/yolov5/data/yolov5-attacked-images/val/images/n03888257_23350.JPEG: 224x224 1 patch, 5.2ms\n",
            "image 183/199 /content/yolov5/data/yolov5-attacked-images/val/images/n03888257_23421.JPEG: 224x224 2 patchs, 4.9ms\n",
            "image 184/199 /content/yolov5/data/yolov5-attacked-images/val/images/n03888257_26182.JPEG: 224x224 1 patch, 5.0ms\n",
            "image 185/199 /content/yolov5/data/yolov5-attacked-images/val/images/n03888257_26651.JPEG: 224x224 1 patch, 4.9ms\n",
            "image 186/199 /content/yolov5/data/yolov5-attacked-images/val/images/n03888257_30521.JPEG: 224x224 1 patch, 4.8ms\n",
            "image 187/199 /content/yolov5/data/yolov5-attacked-images/val/images/n03888257_32042.JPEG: 224x192 (no detections), 5.6ms\n",
            "image 188/199 /content/yolov5/data/yolov5-attacked-images/val/images/n03888257_3651.JPEG: 160x224 (no detections), 7.2ms\n",
            "image 189/199 /content/yolov5/data/yolov5-attacked-images/val/images/n03888257_37561.JPEG: 160x224 (no detections), 4.9ms\n",
            "image 190/199 /content/yolov5/data/yolov5-attacked-images/val/images/n03888257_39031.JPEG: 224x224 1 patch, 5.6ms\n",
            "image 191/199 /content/yolov5/data/yolov5-attacked-images/val/images/n03888257_41091.JPEG: 224x224 1 patch, 8.4ms\n",
            "image 192/199 /content/yolov5/data/yolov5-attacked-images/val/images/n03888257_41260.JPEG: 224x224 1 patch, 6.2ms\n",
            "image 193/199 /content/yolov5/data/yolov5-attacked-images/val/images/n03888257_51872.JPEG: 224x224 2 patchs, 5.1ms\n",
            "image 194/199 /content/yolov5/data/yolov5-attacked-images/val/images/n03888257_61350.JPEG: 224x224 2 patchs, 5.1ms\n",
            "image 195/199 /content/yolov5/data/yolov5-attacked-images/val/images/n03888257_6230.JPEG: 224x224 1 patch, 4.9ms\n",
            "image 196/199 /content/yolov5/data/yolov5-attacked-images/val/images/n03888257_66361.JPEG: 224x224 1 patch, 5.3ms\n",
            "image 197/199 /content/yolov5/data/yolov5-attacked-images/val/images/n03888257_73320.JPEG: 224x224 1 patch, 5.5ms\n",
            "image 198/199 /content/yolov5/data/yolov5-attacked-images/val/images/n03888257_760.JPEG: 224x224 1 patch, 5.5ms\n",
            "image 199/199 /content/yolov5/data/yolov5-attacked-images/val/images/n03888257_850.JPEG: 224x224 1 patch, 5.2ms\n",
            "Speed: 0.2ms pre-process, 6.1ms inference, 0.8ms NMS per image at shape (1, 3, 224, 224)\n",
            "Results saved to \u001b[1mruns/detect/exp2\u001b[0m\n",
            "181 labels saved to runs/detect/exp2/labels\n"
          ]
        }
      ]
    },
    {
      "cell_type": "code",
      "source": [
        "!python yolov5/detect.py --weights runs/train/yolo-patch-detection-sm-final2/weights/best.pt --img 224 --save-txt --source data/yolov5-attacked-images/val/images"
      ],
      "metadata": {
        "id": "Cwv-UegMrZmV"
      },
      "execution_count": null,
      "outputs": []
    },
    {
      "cell_type": "code",
      "execution_count": null,
      "metadata": {
        "id": "TmPoog2m0u0Q"
      },
      "outputs": [],
      "source": [
        "'''\n",
        "%cd /content/drive/My\\ Drive/UMass\\ Projects/CS682/yolov5/data/patched-images/val/labels\n",
        "!ls\n",
        "import os\n",
        "print(os.getcwd())\n",
        "all_files = os.listdir(os.getcwd())\n",
        "print(len(all_files))\n",
        "for fn in all_files:\n",
        "    data = []\n",
        "    with open(fn, 'r', encoding='utf-8') as fp:\n",
        "        data = fp.readlines()\n",
        "    data[0] = data[0].replace(\",\",\" \")\n",
        "    with open(fn, 'w', encoding='utf-8') as fp:\n",
        "        fp.writelines(data)\n",
        "'''"
      ]
    },
    {
      "cell_type": "code",
      "execution_count": null,
      "metadata": {
        "id": "mj_AahQHIMHS"
      },
      "outputs": [],
      "source": [
        "#clean up yolo label\n",
        "%cd /content/drive/My\\ Drive/UMass\\ Projects/CS682/yolov5\n",
        "'''\n",
        "import os\n",
        "train_path = 'data/patched-images/train/labels'\n",
        "valid_path = 'data/patched-images/val/labels'\n",
        "\n",
        "train_fs = [fname for fname in os.listdir(train_path) if '.txt' in fname]\n",
        "val_fs = [fname for fname in os.listdir(valid_path) if '.txt' in fname]\n",
        "\n",
        "for fn in train_fs:\n",
        "    fpath = os.path.join(train_path, fn)\n",
        "    data = ''\n",
        "    with open(fpath, 'r', encoding='utf-8') as fp:\n",
        "        data = fp.readlines()[0]\n",
        "    if \",\" in data:\n",
        "        data = data.split(\",\")\n",
        "        xc, yc, w, h = int(data[1]), int(data[2]), int(data[3]), int(data[4])\n",
        "        xc = ((xc + 50) - xc / 2)/224\n",
        "        yc = ((yc + 50) - yc / 2)/224\n",
        "        data[1] = xc\n",
        "        data[2] = yc\n",
        "        data[3] = w / 224\n",
        "        data[4] = h / 224\n",
        "        new_ln = f'{data[0]} {data[1]} {data[2]} {data[3]} {data[4]}'\n",
        "\n",
        "        with open(fpath, 'w+', encoding='utf-8') as fp:\n",
        "            fp.writelines(new_ln)\n",
        "\n",
        "for fn in val_fs:\n",
        "    fpath = os.path.join(valid_path, fn)\n",
        "    data = ''\n",
        "    with open(fpath, 'r', encoding='utf-8') as fp:\n",
        "        data = fp.readlines()[0]\n",
        "    if \",\" in data:\n",
        "        data = data.split(\",\")\n",
        "        xc, yc, w, h = int(data[1]), int(data[2]), int(data[3]), int(data[4])\n",
        "        xc = ((xc + 50) - xc / 2)/224\n",
        "        yc = ((yc + 50) - yc / 2)/224\n",
        "        data[1] = xc\n",
        "        data[2] = yc\n",
        "        data[3] = w / 224\n",
        "        data[4] = h / 224\n",
        "        new_ln = f'{data[0]} {data[1]} {data[2]} {data[3]} {data[4]}'\n",
        "\n",
        "        with open(fpath, 'w+', encoding='utf-8') as fp:\n",
        "            fp.writelines(new_ln)\n",
        "'''"
      ]
    }
  ],
  "metadata": {
    "colab": {
      "provenance": []
    },
    "kernelspec": {
      "display_name": "Python 3",
      "name": "python3"
    },
    "language_info": {
      "name": "python"
    }
  },
  "nbformat": 4,
  "nbformat_minor": 0
}